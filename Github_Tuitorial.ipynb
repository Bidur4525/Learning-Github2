{
	"cells": [
		{
			"cell_type": "code",
			"execution_count": 1,
			"metadata": {},
			"outputs": [],
			"source": [
				"import time\n",
				"import matplotlib.pyplot as plt\n",
				"from simple_pid import PID"
			]
		},
		{
			"cell_type": "code",
			"execution_count": 2,
			"metadata": {},
			"outputs": [],
			"source": [
				"class WaterBoiler:\n",
				"    \"\"\"\n",
				"    Simple simulation of a water boiler which can heat up water\n",
				"    and where the heat dissipates slowly over time\n",
				"    \"\"\"\n",
				"\n",
				"    def __init__(self):\n",
				"        self.water_temp = 20\n",
				"\n",
				"    def update(self, boiler_power, dt):\n",
				"        if boiler_power > 0:\n",
				"            # Boiler can only produce heat, not cold\n",
				"            self.water_temp += 1 * boiler_power * dt      #### increasing heat temperature equation\n",
				"\n",
				"        # Some heat dissipation\n",
				"        self.water_temp -= 0.02 * dt\n",
				"        return self.water_temp"
			]
		},
		{
			"cell_type": "code",
			"execution_count": 3,
			"metadata": {},
			"outputs": [],
			"source": [
				"if __name__ == '__main__':\n",
				"    boiler = WaterBoiler()\n",
				"    water_temp = boiler.water_temp\n",
				"\n",
				"    pid = PID(5, 0.01, 0.1, setpoint=water_temp)\n",
				"    pid.output_limits = (0, 100)\n",
				"\n",
				"    start_time = time.time()\n",
				"    last_time = start_time\n",
				"\n",
				"    # Keep track of values for plotting\n",
				"    setpoint, y, x = [], [], []\n",
				"\n",
				"    while time.time() - start_time < 10:\n",
				"        current_time = time.time()\n",
				"        dt = current_time - last_time\n",
				"\n",
				"        power = pid(water_temp)\n",
				"        water_temp = boiler.update(power, dt)\n",
				"\n",
				"        x += [current_time - start_time]\n",
				"        y += [water_temp]\n",
				"        setpoint += [pid.setpoint]\n",
				"\n",
				"        if current_time - start_time > 1:\n",
				"            pid.setpoint = 100\n",
				"\n",
				"        last_time = current_time"
			]
		},
		{
			"cell_type": "code",
			"execution_count": 4,
			"metadata": {},
			"outputs": [
				{
					"data": {
						"image/png": "[encoded data removed]",
						"text/plain": [
							"<Figure size 432x288 with 1 Axes>"
						]
					},
					"metadata": {
						"needs_background": "light"
					},
					"output_type": "display_data"
				}
			],
			"source": [
				"    plt.plot(x, y, label='measured')\n",
				"    plt.plot(x, setpoint, label='target')\n",
				"    plt.xlabel('time')\n",
				"    plt.ylabel('temperature')\n",
				"    plt.legend()\n",
				"    plt.show()"
			]
		},
		{
			"cell_type": "code",
			"execution_count": null,
			"metadata": {},
			"outputs": [],
			"source": [
				"import numpy as np\n",
				"import matplotlib as plt"
			]
		},
		{
			"cell_type": "code",
			"execution_count": 7,
			"metadata": {},
			"outputs": [
				{
					"name": "stdout",
					"output_type": "stream",
					"text": [
						"Area of Rectangle: 19200 cm^2\n"
					]
				}
			],
			"source": [
				"class Rectangle:\n",
				"    def __init__(self, length, breadth, unitcost=0):\n",
				"        self.length=length\n",
				"        self.breadth=breadth\n",
				"        self.unit_cost=unitcost\n",
				"\n",
				"    def get_perimeter(self):\n",
				"        return 2*(self.length+self.breadth)\n",
				"\n",
				"    def get_area(self):\n",
				"        return self.length*self.breadth\n",
				"\n",
				"\n",
				"a=Rectangle(160, 120, 2000)\n",
				"print(\"Area of Rectangle: %s cm^2\" %(a.get_area()))\n"
			]
		},
		{
			"cell_type": "code",
			"execution_count": 28,
			"metadata": {},
			"outputs": [
				{
					"name": "stdout",
					"output_type": "stream",
					"text": [
						"Seconds since epoch = 1655170416.3056161\n"
					]
				}
			],
			"source": [
				"import time\n",
				"seconds = time.time()\n",
				"print(\"Seconds since epoch =\", seconds)"
			]
		},
		{
			"cell_type": "code",
			"execution_count": null,
			"metadata": {},
			"outputs": [],
			"source": [
				"import numpy as np\n",
				"import time\n",
				"import matplotlib.pyplot as plt\n",
				"from simple_pid import PID\n",
				"\n",
				"class KalmanFilter(object):\n",
				"    def __init__(self,dt,u,std_acc,std_meas):\n",
				"        self.dt = dt\n",
				"        self.u = u\n",
				"        self.std_acc = std_acc\n",
				"        self.A = np.matrix([[1, self.dt],\n",
				"                            [0, 1]])\n",
				"        self.B = np.matrix([[(self.dt**2)/2], [self.dt]]) \n",
				"        self.H = np.matrix([[1,0]])\n",
				"        self.Q = np.matrix([[(self.dt**4)/4, (self.dt**3)/2],\n",
				"                            [(self.dt**3)/2, self.dt**2]]) * self.std_acc**2\n",
				"        self.R = std_meas**2\n",
				"        self.P = np.eye(self.A.shape[1])\n",
				"        self.x = np.matrix([[0],[0]])\n",
				"\n"
			]
		}
	],
	"folders": [],
	"metadata": {
		"interpreter": {
			"hash": "ad2bdc8ecc057115af97d19610ffacc2b4e99fae6737bb82f5d7fb13d2f2c186"
		},
		"kernelspec": {
			"display_name": "Python 3.9.7 ('base')",
			"language": "python",
			"name": "python3"
		},
		"language_info": {
			"codemirror_mode": {
				"name": "ipython",
				"version": 3
			},
			"file_extension": ".py",
			"mimetype": "text/x-python",
			"name": "python",
			"nbconvert_exporter": "python",
			"pygments_lexer": "ipython3",
			"version": "3.9.7"
		},
		"orig_nbformat": 4
	},
	"nbformat": 4,
	"nbformat_minor": 2
}
